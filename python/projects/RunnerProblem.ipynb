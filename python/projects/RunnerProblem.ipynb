{
 "cells": [
  {
   "cell_type": "code",
   "execution_count": 6,
   "id": "e139f21a",
   "metadata": {
    "ExecuteTime": {
     "end_time": "2023-05-21T01:27:21.510317Z",
     "start_time": "2023-05-21T01:27:21.504270Z"
    }
   },
   "outputs": [],
   "source": [
    "# If you run a 10 kilometer race in 43 minutes 30 seconds, what is your\n",
    "# average speed in miles per hour?\n",
    "# (Hint: there are 1.61 kilometers in a mile).\n",
    "secs_per_hour = 60 * 60 # seconds times minutes\n",
    "distance = 10 # kilometers\n",
    "kms_per_mi = 1.61 # kilometers per mile"
   ]
  },
  {
   "cell_type": "code",
   "execution_count": 7,
   "id": "adfea725",
   "metadata": {
    "ExecuteTime": {
     "end_time": "2023-05-21T01:27:52.833462Z",
     "start_time": "2023-05-21T01:27:52.827209Z"
    }
   },
   "outputs": [],
   "source": [
    "def to_secs(mins,secs):\n",
    "    return mins * 60 + secs\n",
    "running_time_secs = to_secs(43,10)\n",
    "avg_kms_per_secs = distance / running_time_secs\n",
    "avg_kms_per_hr = avg_kms_per_secs * secs_per_hour\n",
    "avg_mi_per_hr = avg_kms_per_hr / kms_per_mi"
   ]
  },
  {
   "cell_type": "code",
   "execution_count": 8,
   "id": "daa5e31e",
   "metadata": {
    "ExecuteTime": {
     "end_time": "2023-05-21T01:28:18.163284Z",
     "start_time": "2023-05-21T01:28:18.156732Z"
    }
   },
   "outputs": [
    {
     "name": "stdout",
     "output_type": "stream",
     "text": [
      "0.003861003861003861\n",
      "13.8996138996139\n",
      "8.633300558766397\n"
     ]
    }
   ],
   "source": [
    "print(avg_kms_per_secs)\n",
    "print(avg_kms_per_hr)\n",
    "print(avg_mi_per_hr)"
   ]
  }
 ],
 "metadata": {
  "kernelspec": {
   "display_name": "py38class",
   "language": "python",
   "name": "py38class"
  },
  "language_info": {
   "codemirror_mode": {
    "name": "ipython",
    "version": 3
   },
   "file_extension": ".py",
   "mimetype": "text/x-python",
   "name": "python",
   "nbconvert_exporter": "python",
   "pygments_lexer": "ipython3",
   "version": "3.8.12"
  },
  "toc": {
   "base_numbering": 1,
   "nav_menu": {},
   "number_sections": true,
   "sideBar": true,
   "skip_h1_title": false,
   "title_cell": "Table of Contents",
   "title_sidebar": "Contents",
   "toc_cell": false,
   "toc_position": {},
   "toc_section_display": true,
   "toc_window_display": false
  }
 },
 "nbformat": 4,
 "nbformat_minor": 5
}
