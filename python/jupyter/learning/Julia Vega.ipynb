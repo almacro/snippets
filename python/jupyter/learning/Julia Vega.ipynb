{
 "cells": [
  {
   "cell_type": "code",
   "execution_count": 18,
   "id": "1e896249",
   "metadata": {},
   "outputs": [],
   "source": [
    "using VegaLite, DataFrames"
   ]
  },
  {
   "cell_type": "code",
   "execution_count": 31,
   "id": "c0ae0fe9",
   "metadata": {},
   "outputs": [
    {
     "data": {
      "text/html": [
       "<div class=\"data-frame\"><p>5 rows × 3 columns</p><table class=\"data-frame\"><thead><tr><th></th><th>stock</th><th>quantity</th><th>order</th></tr><tr><th></th><th title=\"String\">String</th><th title=\"Int64\">Int64</th><th title=\"Int64\">Int64</th></tr></thead><tbody><tr><th>1</th><td>chairs</td><td>15</td><td>1</td></tr><tr><th>2</th><td>tables</td><td>10</td><td>2</td></tr><tr><th>3</th><td>desks</td><td>10</td><td>3</td></tr><tr><th>4</th><td>rugs</td><td>5</td><td>4</td></tr><tr><th>5</th><td>lamps</td><td>20</td><td>5</td></tr></tbody></table></div>"
      ],
      "text/latex": [
       "\\begin{tabular}{r|ccc}\n",
       "\t& stock & quantity & order\\\\\n",
       "\t\\hline\n",
       "\t& String & Int64 & Int64\\\\\n",
       "\t\\hline\n",
       "\t1 & chairs & 15 & 1 \\\\\n",
       "\t2 & tables & 10 & 2 \\\\\n",
       "\t3 & desks & 10 & 3 \\\\\n",
       "\t4 & rugs & 5 & 4 \\\\\n",
       "\t5 & lamps & 20 & 5 \\\\\n",
       "\\end{tabular}\n"
      ],
      "text/plain": [
       "\u001b[1m5×3 DataFrame\u001b[0m\n",
       "\u001b[1m Row \u001b[0m│\u001b[1m stock  \u001b[0m\u001b[1m quantity \u001b[0m\u001b[1m order \u001b[0m\n",
       "\u001b[1m     \u001b[0m│\u001b[90m String \u001b[0m\u001b[90m Int64    \u001b[0m\u001b[90m Int64 \u001b[0m\n",
       "─────┼─────────────────────────\n",
       "   1 │ chairs        15      1\n",
       "   2 │ tables        10      2\n",
       "   3 │ desks         10      3\n",
       "   4 │ rugs           5      4\n",
       "   5 │ lamps         20      5"
      ]
     },
     "execution_count": 31,
     "metadata": {},
     "output_type": "execute_result"
    }
   ],
   "source": [
    "stock = [\"chairs\", \"tables\", \"desks\", \"rugs\", \"lamps\"]\n",
    "quantity = [15, 10, 10, 5, 20]\n",
    "df = DataFrame(\n",
    "    stock=stock,\n",
    "    quantity=quantity,\n",
    "    order=[1,2,3,4,5]\n",
    ")"
   ]
  },
  {
   "cell_type": "code",
   "execution_count": 32,
   "id": "69b174d8",
   "metadata": {},
   "outputs": [
    {
     "data": {
      "application/vnd.vegalite.v4+json": {
       "data": {
        "values": [
         {
          "order": 1,
          "quantity": 15,
          "stock": "chairs"
         },
         {
          "order": 2,
          "quantity": 10,
          "stock": "tables"
         },
         {
          "order": 3,
          "quantity": 10,
          "stock": "desks"
         },
         {
          "order": 4,
          "quantity": 5,
          "stock": "rugs"
         },
         {
          "order": 5,
          "quantity": 20,
          "stock": "lamps"
         }
        ]
       },
       "encoding": {
        "color": {
         "field": "stock",
         "scale": {
          "domain": [
           "chairs",
           "tables",
           "desks",
           "rugs",
           "lamps"
          ]
         },
         "type": "nominal"
        },
        "order": {
         "field": "order",
         "type": "quantitative"
        },
        "theta": {
         "field": "quantity",
         "type": "quantitative"
        }
       },
       "mark": "arc",
       "view": {
        "stroke": null
       }
      },
      "image/png": "[encoded data removed]",
      "image/svg+xml": [
       "<?xml version=\"1.0\" encoding=\"utf-8\"?>\n",
       "<!DOCTYPE svg PUBLIC \"-//W3C//DTD SVG 1.1//EN\" \"http://www.w3.org/Graphics/SVG/1.1/DTD/svg11.dtd\">\n",
       "<svg xmlns=\"http://www.w3.org/2000/svg\" xmlns:xlink=\"http://www.w3.org/1999/xlink\" version=\"1.1\" class=\"marks\" width=\"274\" height=\"210\" viewBox=\"0 0 274 210\"><rect width=\"274\" height=\"210\" fill=\"white\"/><g fill=\"none\" stroke-miterlimit=\"10\" transform=\"translate(5,5)\"><g class=\"mark-group role-frame root\" role=\"graphics-object\" aria-roledescription=\"group mark container\"><g transform=\"translate(0,0)\"><path class=\"background\" aria-hidden=\"true\" d=\"M0,0h200v200h-200Z\"/><g><g class=\"mark-arc role-mark marks\" role=\"graphics-object\" aria-roledescription=\"arc mark container\"><path aria-label=\"quantity: 15; stock: chairs; order: 1\" role=\"graphics-symbol\" aria-roledescription=\"arc mark\" transform=\"translate(100,100)\" d=\"M100,0A100,100,0,0,0,6.123233995736766e-15,-100L0,0Z\" fill=\"#4c78a8\"/><path aria-label=\"quantity: 10; stock: tables; order: 2\" role=\"graphics-symbol\" aria-roledescription=\"arc mark\" transform=\"translate(100,100)\" d=\"M49.999999999999986,86.60254037844388A100,100,0,0,0,100,0L0,0Z\" fill=\"#f58518\"/><path aria-label=\"quantity: 10; stock: desks; order: 3\" role=\"graphics-symbol\" aria-roledescription=\"arc mark\" transform=\"translate(100,100)\" d=\"M-50.00000000000002,86.60254037844386A100,100,0,0,0,49.999999999999986,86.60254037844388L0,0Z\" fill=\"#e45756\"/><path aria-label=\"quantity: 5; stock: rugs; order: 4\" role=\"graphics-symbol\" aria-roledescription=\"arc mark\" transform=\"translate(100,100)\" d=\"M-86.60254037844385,50.000000000000036A100,100,0,0,0,-50.00000000000002,86.60254037844386L0,0Z\" fill=\"#72b7b2\"/><path aria-label=\"quantity: 20; stock: lamps; order: 5\" role=\"graphics-symbol\" aria-roledescription=\"arc mark\" transform=\"translate(100,100)\" d=\"M-1.8369701987210297e-14,-100A100,100,0,0,0,-86.60254037844385,50.000000000000036L0,0Z\" fill=\"#54a24b\"/></g><g class=\"mark-group role-legend\" role=\"graphics-symbol\" aria-roledescription=\"legend\" aria-label=\"Symbol legend titled 'stock' for fill color with 5 values: chairs, tables, desks, rugs, lamps\"><g transform=\"translate(218,0)\"><path class=\"background\" aria-hidden=\"true\" d=\"M0,0h46v79h-46Z\" pointer-events=\"none\"/><g><g class=\"mark-group role-legend-entry\"><g transform=\"translate(0,16)\"><path class=\"background\" aria-hidden=\"true\" d=\"M0,0h0v0h0Z\" pointer-events=\"none\"/><g><g class=\"mark-group role-scope\" role=\"graphics-object\" aria-roledescription=\"group mark container\"><g transform=\"translate(0,0)\"><path class=\"background\" aria-hidden=\"true\" d=\"M0,0h46v11h-46Z\" pointer-events=\"none\" opacity=\"1\"/><g><g class=\"mark-symbol role-legend-symbol\" pointer-events=\"none\"><path transform=\"translate(6,6)\" d=\"M5,0A5,5,0,1,1,-5,0A5,5,0,1,1,5,0\" fill=\"#4c78a8\" stroke-width=\"1.5\" opacity=\"1\"/></g><g class=\"mark-text role-legend-label\" pointer-events=\"none\"><text text-anchor=\"start\" transform=\"translate(16,9)\" font-family=\"sans-serif\" font-size=\"10px\" fill=\"#000\" opacity=\"1\">chairs</text></g></g><path class=\"foreground\" aria-hidden=\"true\" d=\"\" pointer-events=\"none\" display=\"none\"/></g><g transform=\"translate(0,13)\"><path class=\"background\" aria-hidden=\"true\" d=\"M0,0h46v11h-46Z\" pointer-events=\"none\" opacity=\"1\"/><g><g class=\"mark-symbol role-legend-symbol\" pointer-events=\"none\"><path transform=\"translate(6,6)\" d=\"M5,0A5,5,0,1,1,-5,0A5,5,0,1,1,5,0\" fill=\"#f58518\" stroke-width=\"1.5\" opacity=\"1\"/></g><g class=\"mark-text role-legend-label\" pointer-events=\"none\"><text text-anchor=\"start\" transform=\"translate(16,9)\" font-family=\"sans-serif\" font-size=\"10px\" fill=\"#000\" opacity=\"1\">tables</text></g></g><path class=\"foreground\" aria-hidden=\"true\" d=\"\" pointer-events=\"none\" display=\"none\"/></g><g transform=\"translate(0,26)\"><path class=\"background\" aria-hidden=\"true\" d=\"M0,0h46v11h-46Z\" pointer-events=\"none\" opacity=\"1\"/><g><g class=\"mark-symbol role-legend-symbol\" pointer-events=\"none\"><path transform=\"translate(6,6)\" d=\"M5,0A5,5,0,1,1,-5,0A5,5,0,1,1,5,0\" fill=\"#e45756\" stroke-width=\"1.5\" opacity=\"1\"/></g><g class=\"mark-text role-legend-label\" pointer-events=\"none\"><text text-anchor=\"start\" transform=\"translate(16,9)\" font-family=\"sans-serif\" font-size=\"10px\" fill=\"#000\" opacity=\"1\">desks</text></g></g><path class=\"foreground\" aria-hidden=\"true\" d=\"\" pointer-events=\"none\" display=\"none\"/></g><g transform=\"translate(0,39)\"><path class=\"background\" aria-hidden=\"true\" d=\"M0,0h46v11h-46Z\" pointer-events=\"none\" opacity=\"1\"/><g><g class=\"mark-symbol role-legend-symbol\" pointer-events=\"none\"><path transform=\"translate(6,6)\" d=\"M5,0A5,5,0,1,1,-5,0A5,5,0,1,1,5,0\" fill=\"#72b7b2\" stroke-width=\"1.5\" opacity=\"1\"/></g><g class=\"mark-text role-legend-label\" pointer-events=\"none\"><text text-anchor=\"start\" transform=\"translate(16,9)\" font-family=\"sans-serif\" font-size=\"10px\" fill=\"#000\" opacity=\"1\">rugs</text></g></g><path class=\"foreground\" aria-hidden=\"true\" d=\"\" pointer-events=\"none\" display=\"none\"/></g><g transform=\"translate(0,52)\"><path class=\"background\" aria-hidden=\"true\" d=\"M0,0h46v11h-46Z\" pointer-events=\"none\" opacity=\"1\"/><g><g class=\"mark-symbol role-legend-symbol\" pointer-events=\"none\"><path transform=\"translate(6,6)\" d=\"M5,0A5,5,0,1,1,-5,0A5,5,0,1,1,5,0\" fill=\"#54a24b\" stroke-width=\"1.5\" opacity=\"1\"/></g><g class=\"mark-text role-legend-label\" pointer-events=\"none\"><text text-anchor=\"start\" transform=\"translate(16,9)\" font-family=\"sans-serif\" font-size=\"10px\" fill=\"#000\" opacity=\"1\">lamps</text></g></g><path class=\"foreground\" aria-hidden=\"true\" d=\"\" pointer-events=\"none\" display=\"none\"/></g></g></g><path class=\"foreground\" aria-hidden=\"true\" d=\"\" pointer-events=\"none\" display=\"none\"/></g></g><g class=\"mark-text role-legend-title\" pointer-events=\"none\"><text text-anchor=\"start\" transform=\"translate(0,9)\" font-family=\"sans-serif\" font-size=\"11px\" font-weight=\"bold\" fill=\"#000\" opacity=\"1\">stock</text></g></g><path class=\"foreground\" aria-hidden=\"true\" d=\"\" pointer-events=\"none\" display=\"none\"/></g></g></g><path class=\"foreground\" aria-hidden=\"true\" d=\"\" display=\"none\"/></g></g></g></svg>\n"
      ],
      "text/plain": [
       "@vlplot(\n",
       "    view={\n",
       "        stroke=nothing\n",
       "    },\n",
       "    mark=\"arc\",\n",
       "    encoding={\n",
       "        theta={\n",
       "            field=\"quantity\"\n",
       "        },\n",
       "        color={\n",
       "            scale={\n",
       "                domain=[\n",
       "                    \"chairs\",\n",
       "                    \"tables\",\n",
       "                    \"desks\",\n",
       "                    \"rugs\",\n",
       "                    \"lamps\"\n",
       "                ]\n",
       "            },\n",
       "            field=\"stock\"\n",
       "        },\n",
       "        order={\n",
       "            field=\"order\"\n",
       "        }\n",
       "    },\n",
       "    data={\n",
       "        values=...\n",
       "    }\n",
       ")"
      ]
     },
     "execution_count": 32,
     "metadata": {},
     "output_type": "execute_result"
    }
   ],
   "source": [
    "df |> @vlplot(:arc, theta=:quantity, color={:stock,scale={domain=[\"chairs\", \"tables\", \"desks\", \"rugs\", \"lamps\"]}}, view={stroke=nothing}, order=:order)"
   ]
  }
 ],
 "metadata": {
  "kernelspec": {
   "display_name": "Julia 1.7.2",
   "language": "julia",
   "name": "julia-1.7"
  },
  "language_info": {
   "file_extension": ".jl",
   "mimetype": "application/julia",
   "name": "julia",
   "version": "1.7.2"
  }
 },
 "nbformat": 4,
 "nbformat_minor": 5
}
