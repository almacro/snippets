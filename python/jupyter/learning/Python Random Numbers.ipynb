{
 "cells": [
  {
   "cell_type": "code",
   "execution_count": 5,
   "id": "084cf9e2",
   "metadata": {},
   "outputs": [],
   "source": [
    "import pylab\n",
    "import random"
   ]
  },
  {
   "cell_type": "code",
   "execution_count": 6,
   "id": "ac6c8310",
   "metadata": {},
   "outputs": [],
   "source": [
    "random.seed(113)\n",
    "samples = 1000\n",
    "dice = []"
   ]
  },
  {
   "cell_type": "code",
   "execution_count": 7,
   "id": "14a89d47",
   "metadata": {},
   "outputs": [],
   "source": [
    "for i in range(samples):\n",
    "    total = random.randint(1,6) + random.randint(1,6)\n",
    "    dice.append(total)"
   ]
  },
  {
   "cell_type": "code",
   "execution_count": 9,
   "id": "1df376a4",
   "metadata": {},
   "outputs": [
    {
     "name": "stdout",
     "output_type": "stream",
     "text": [
      "Throw two dice 1000 times.\n",
      "Mean of 6.996\n",
      "Median of 7.0\n",
      "Std Dev 2.32335619309653\n"
     ]
    }
   ],
   "source": [
    "print(\"Throw two dice \" + str(samples) + \" times.\")\n",
    "print(\"Mean of \" + str(pylab.mean(dice)))\n",
    "print(\"Median of \" + str(pylab.median(dice)))\n",
    "print(\"Std Dev \" + str(pylab.std(dice)))"
   ]
  },
  {
   "cell_type": "code",
   "execution_count": 10,
   "id": "7689df44",
   "metadata": {},
   "outputs": [
    {
     "data": {
      "image/png": "[encoded data removed]",
      "text/plain": [
       "<Figure size 432x288 with 1 Axes>"
      ]
     },
     "metadata": {
      "needs_background": "light"
     },
     "output_type": "display_data"
    }
   ],
   "source": [
    "pylab.hist(dice, bins= pylab.arange(1.5,12.6,1.0))\n",
    "pylab.xlabel('Pips')\n",
    "pylab.ylabel('Count')\n",
    "pylab.show()"
   ]
  }
 ],
 "metadata": {
  "kernelspec": {
   "display_name": "Python 3 (ipykernel)",
   "language": "python",
   "name": "python3"
  },
  "language_info": {
   "codemirror_mode": {
    "name": "ipython",
    "version": 3
   },
   "file_extension": ".py",
   "mimetype": "text/x-python",
   "name": "python",
   "nbconvert_exporter": "python",
   "pygments_lexer": "ipython3",
   "version": "3.9.7"
  }
 },
 "nbformat": 4,
 "nbformat_minor": 5
}
