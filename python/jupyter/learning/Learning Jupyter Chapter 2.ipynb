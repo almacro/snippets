{
 "cells": [
  {
   "cell_type": "code",
   "execution_count": null,
   "id": "66d188f5",
   "metadata": {},
   "outputs": [],
   "source": [
    "print('Hi There!')"
   ]
  },
  {
   "cell_type": "code",
   "execution_count": null,
   "id": "0265d6db",
   "metadata": {},
   "outputs": [],
   "source": [
    "name = \"Dan\"\n",
    "age = 34"
   ]
  },
  {
   "cell_type": "code",
   "execution_count": null,
   "id": "9f9f2e5b",
   "metadata": {},
   "outputs": [],
   "source": [
    "print(name + \" is \" + str(age) + \" years old.\")"
   ]
  }
 ],
 "metadata": {
  "kernelspec": {
   "display_name": "Python 3 (ipykernel)",
   "language": "python",
   "name": "python3"
  },
  "language_info": {
   "codemirror_mode": {
    "name": "ipython",
    "version": 3
   },
   "file_extension": ".py",
   "mimetype": "text/x-python",
   "name": "python",
   "nbconvert_exporter": "python",
   "pygments_lexer": "ipython3",
   "version": "3.9.7"
  }
 },
 "nbformat": 4,
 "nbformat_minor": 5
}
