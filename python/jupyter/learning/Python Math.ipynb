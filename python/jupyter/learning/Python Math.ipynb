{
 "cells": [
  {
   "cell_type": "code",
   "execution_count": null,
   "id": "9b6337eb",
   "metadata": {},
   "outputs": [],
   "source": [
    "# If you run a 10 kilometer race in 43 minutes, 30 seconds, \n",
    "# what is your average time per mile?"
   ]
  },
  {
   "cell_type": "code",
   "execution_count": null,
   "id": "015bd71f",
   "metadata": {},
   "outputs": [],
   "source": [
    "kms = 10\n",
    "miles = kms / 1.61    # Hint: there are 1.61 kilometers per mile\n",
    "mins = 43.5\n",
    "miles"
   ]
  },
  {
   "cell_type": "code",
   "execution_count": null,
   "id": "73b2b45e",
   "metadata": {},
   "outputs": [],
   "source": [
    "rate = mins / miles\n",
    "print(f\"{kms} kilometers run in {mins} minutes gives {rate} minutes average time per mile\")"
   ]
  },
  {
   "cell_type": "code",
   "execution_count": null,
   "id": "5282d0bf",
   "metadata": {},
   "outputs": [],
   "source": []
  }
 ],
 "metadata": {
  "kernelspec": {
   "display_name": "Python 3 (ipykernel)",
   "language": "python",
   "name": "python3"
  },
  "language_info": {
   "codemirror_mode": {
    "name": "ipython",
    "version": 3
   },
   "file_extension": ".py",
   "mimetype": "text/x-python",
   "name": "python",
   "nbconvert_exporter": "python",
   "pygments_lexer": "ipython3",
   "version": "3.9.7"
  }
 },
 "nbformat": 4,
 "nbformat_minor": 5
}
