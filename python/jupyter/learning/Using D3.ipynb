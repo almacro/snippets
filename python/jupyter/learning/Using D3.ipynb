{
 "cells": [
  {
   "cell_type": "code",
   "execution_count": 3,
   "id": "4d254e60",
   "metadata": {},
   "outputs": [
    {
     "name": "stderr",
     "output_type": "stream",
     "text": [
      "TypeError: d3.tsv.parse is not a function\n",
      "    at ReadFileContext.callback (evalmachine.<anonymous>:6:19)\n",
      "    at FSReqWrap.readFileAfterOpen [as oncomplete] (fs.js:367:13)"
     ]
    }
   ],
   "source": [
    "var fs = require(\"fs\");\n",
    "var d3 = require(\"d3\");\n",
    "var _ = require(\"lodash\");\n",
    "//read in the animals file\n",
    "fs.readFile(\"data/animals.tsv\", \"utf8\", function(error, data) {\n",
    "    data = d3.tsv.parse(data);\n",
    "//display on screen\n",
    "    console.log(JSON.stringify(data));\n",
    "//compute the maximum weight\n",
    "    var maxWeight = d3.max(data, function(d) { return d.avg_weight; });\n",
    "//display the max on screen\n",
    "    console.log(maxWeight);\n",
    "});"
   ]
  },
  {
   "cell_type": "code",
   "execution_count": 4,
   "id": "3d536c23",
   "metadata": {},
   "outputs": [
    {
     "data": {
      "text/plain": [
       "{ header: [Function: header],\n",
       "  mimeType: [Function: mimeType],\n",
       "  responseType: [Function: responseType],\n",
       "  timeout: [Function: timeout],\n",
       "  user: [Function: user],\n",
       "  password: [Function: password],\n",
       "  response: [Function: response],\n",
       "  get: [Function: get],\n",
       "  post: [Function: post],\n",
       "  send: [Function: send],\n",
       "  abort: [Function: abort],\n",
       "  on: [Function: on],\n",
       "  row: [Function] }"
      ]
     },
     "execution_count": 4,
     "metadata": {},
     "output_type": "execute_result"
    }
   ],
   "source": [
    "d3.tsv(\"http://www.dantoomeysoftware.com/data/animals.csv\")"
   ]
  },
  {
   "cell_type": "code",
   "execution_count": 2,
   "id": "894dce9a",
   "metadata": {},
   "outputs": [
    {
     "data": {
      "text/plain": [
       "{ header: [Function: header],\n",
       "  mimeType: [Function: mimeType],\n",
       "  responseType: [Function: responseType],\n",
       "  timeout: [Function: timeout],\n",
       "  user: [Function: user],\n",
       "  password: [Function: password],\n",
       "  response: [Function: response],\n",
       "  get: [Function: get],\n",
       "  post: [Function: post],\n",
       "  send: [Function: send],\n",
       "  abort: [Function: abort],\n",
       "  on: [Function: on],\n",
       "  row: [Function] }"
      ]
     },
     "execution_count": 2,
     "metadata": {},
     "output_type": "execute_result"
    },
    {
     "name": "stdout",
     "output_type": "stream",
     "text": [
      "[ { 'Error: connect ECONNREFUSED 127.0.0.1:80': '    at Object.exports._errnoException (util.js:1020:11)' },\n",
      "  { 'Error: connect ECONNREFUSED 127.0.0.1:80': '    at exports._exceptionWithHostPort (util.js:1043:20)' },\n",
      "  { 'Error: connect ECONNREFUSED 127.0.0.1:80': '    at TCPConnectWrap.afterConnect [as oncomplete] (net.js:1105:14)' },\n",
      "  columns: [ 'Error: connect ECONNREFUSED 127.0.0.1:80' ] ]\n"
     ]
    }
   ],
   "source": [
    "d3.tsv(\"data/animals.tsv\", function(data) {\n",
    "    console.log(data)\n",
    "})"
   ]
  },
  {
   "cell_type": "code",
   "execution_count": 5,
   "id": "3af8a9e3",
   "metadata": {},
   "outputs": [
    {
     "name": "stdout",
     "output_type": "stream",
     "text": [
      "undefined\n"
     ]
    }
   ],
   "source": [
    "var fs = require(\"fs\");\n",
    "var d3 = require(\"d3\");\n",
    "var _ = require(\"lodash\");\n",
    "//read in the animals file\n",
    "fs.readFile(\"data/animals.tsv\", \"utf8\", function(error, data) {\n",
    "    //data = d3.tsv.parse(data);\n",
    "//display on screen\n",
    "    //console.log(JSON.stringify(data));\n",
    "    console.log(data);\n",
    "//compute the maximum weight\n",
    "    //var maxWeight = d3.max(data, function(d) { return d.avg_weight; });\n",
    "//display the max on screen\n",
    "    //console.log(maxWeight);\n",
    "});"
   ]
  },
  {
   "cell_type": "code",
   "execution_count": null,
   "id": "f22ddcef",
   "metadata": {},
   "outputs": [],
   "source": []
  }
 ],
 "metadata": {
  "kernelspec": {
   "display_name": "JavaScript (Node.js)",
   "language": "javascript",
   "name": "javascript"
  },
  "language_info": {
   "file_extension": ".js",
   "mimetype": "application/javascript",
   "name": "javascript",
   "version": "6.13.1"
  }
 },
 "nbformat": 4,
 "nbformat_minor": 5
}
