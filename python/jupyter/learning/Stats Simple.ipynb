{
 "cells": [
  {
   "cell_type": "code",
   "execution_count": 1,
   "id": "dc6be4a3",
   "metadata": {},
   "outputs": [],
   "source": [
    "import statistics"
   ]
  },
  {
   "cell_type": "code",
   "execution_count": 2,
   "id": "e1a0cf1a",
   "metadata": {},
   "outputs": [],
   "source": [
    "sample = [1, 2, 3, 4, 5]"
   ]
  },
  {
   "cell_type": "code",
   "execution_count": 3,
   "id": "66cf6d7b",
   "metadata": {},
   "outputs": [
    {
     "name": "stdout",
     "output_type": "stream",
     "text": [
      "Standard Deviation of sample is 1.5811388300841898\n"
     ]
    }
   ],
   "source": [
    "print(\"Standard Deviation of sample is %s\" % (statistics.stdev(sample)))"
   ]
  },
  {
   "cell_type": "code",
   "execution_count": 26,
   "id": "fd9fc780",
   "metadata": {},
   "outputs": [],
   "source": [
    "arr = [98, 98.6, 98.4, 98.8, 200, 120, 98.5]"
   ]
  },
  {
   "cell_type": "code",
   "execution_count": 6,
   "id": "02107b0c",
   "metadata": {},
   "outputs": [],
   "source": [
    "from decimal import *\n",
    "TWOPLACES = Decimal(10) ** -2  \n",
    "\n",
    "my_stddev = statistics.stdev(arr)\n",
    "my_stddev = Decimal(my_stddev).quantize(TWOPLACES)\n",
    "\n",
    "my_mean = statistics.mean(arr)\n",
    "my_mean = Decimal(my_mean).quantize(TWOPLACES)\n",
    "\n",
    "my_median = statistics.median(arr)"
   ]
  },
  {
   "cell_type": "code",
   "execution_count": 7,
   "id": "131e3594",
   "metadata": {},
   "outputs": [],
   "source": [
    "from scipy.stats import median_abs_deviation\n",
    "\n",
    "my_mad = median_abs_deviation(arr)"
   ]
  },
  {
   "cell_type": "code",
   "execution_count": 27,
   "id": "e4cd0faa",
   "metadata": {},
   "outputs": [],
   "source": [
    "def isOutlier(x, p25, p75):\n",
    "    lo = p25 - 1.5 * (p75 - p25)\n",
    "    hi = p75 + 1.5 * (p75 - p25)\n",
    "    return x <= lo or x >= hi\n",
    "\n",
    "def indexOfOutliers(values):\n",
    "    index = []\n",
    "    cuts = statistics.quantiles(arr,n=4,method='inclusive')\n",
    "    p25 = min(cuts)\n",
    "    p75 = max(cuts)\n",
    "    for idx, val in enumerate(values):\n",
    "        if isOutlier(val, p25, p75):\n",
    "            index.append(idx)\n",
    "    return index\n",
    "\n",
    "def filterOutliers(values):\n",
    "    outs = indexOfOutliers(values)\n",
    "    for idx, val in enumerate(values):\n",
    "        if idx in outs:\n",
    "            del values[idx]\n",
    "    return values\n",
    "\n",
    "my_outliers = indexOfOutliers(arr)\n",
    "\n",
    "my_without_outliers = filterOutliers(list(arr))"
   ]
  },
  {
   "cell_type": "code",
   "execution_count": 28,
   "id": "a801b18b",
   "metadata": {},
   "outputs": [
    {
     "name": "stdout",
     "output_type": "stream",
     "text": [
      "Raw data is  [98, 98.6, 98.4, 98.8, 200, 120, 98.5]\n",
      "Standard Deviation is  37.88\n",
      "Mean is  116.04\n",
      "Median is  98.6\n",
      "Median Abs Deviation is  0.20000000000000284\n",
      "The outliers of the dataset are:  [4]\n",
      "The dataset without outliers is:  [98, 98.6, 98.4, 98.8, 120, 98.5]\n"
     ]
    }
   ],
   "source": [
    "print(\"Raw data is \", arr)\n",
    "print(\"Standard Deviation is \", my_stddev)\n",
    "print(\"Mean is \", my_mean)\n",
    "print(\"Median is \", my_median)\n",
    "print(\"Median Abs Deviation is \", my_mad)\n",
    "print(\"The outliers of the dataset are: \", my_outliers)\n",
    "print(\"The dataset without outliers is: \", my_without_outliers)"
   ]
  }
 ],
 "metadata": {
  "kernelspec": {
   "display_name": "Python 3 (ipykernel)",
   "language": "python",
   "name": "python3"
  },
  "language_info": {
   "codemirror_mode": {
    "name": "ipython",
    "version": 3
   },
   "file_extension": ".py",
   "mimetype": "text/x-python",
   "name": "python",
   "nbconvert_exporter": "python",
   "pygments_lexer": "ipython3",
   "version": "3.9.7"
  }
 },
 "nbformat": 4,
 "nbformat_minor": 5
}
