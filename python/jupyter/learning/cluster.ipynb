{
 "cells": [
  {
   "cell_type": "markdown",
   "id": "0b5bfff0",
   "metadata": {},
   "source": [
    "load the wheat data set from uci.edu"
   ]
  },
  {
   "cell_type": "code",
   "execution_count": 1,
   "id": "6a5c9791",
   "metadata": {},
   "outputs": [],
   "source": [
    "wheat <- read.csv(\"http://archive.ics.uci.edu/ml/machine-learning-databases/00236/seeds_dataset.txt\", sep=\"\\t\")"
   ]
  },
  {
   "cell_type": "markdown",
   "id": "e3409426",
   "metadata": {},
   "source": [
    "define useful column names"
   ]
  },
  {
   "cell_type": "code",
   "execution_count": 2,
   "id": "6f242c26",
   "metadata": {},
   "outputs": [],
   "source": [
    "colnames(wheat) <-c(\"area\", \"perimeter\", \"compactness\", \"length\", \"width\", \"asymmetry\", \"groove\", \"undefined\")"
   ]
  },
  {
   "cell_type": "markdown",
   "id": "64f880b6",
   "metadata": {},
   "source": [
    "exclude incomplete cases from the data"
   ]
  },
  {
   "cell_type": "code",
   "execution_count": 3,
   "id": "11249554",
   "metadata": {},
   "outputs": [],
   "source": [
    "wheat <- wheat[complete.cases(wheat),]"
   ]
  },
  {
   "cell_type": "markdown",
   "id": "1b535e45",
   "metadata": {},
   "source": [
    "calculate the clusters"
   ]
  },
  {
   "cell_type": "code",
   "execution_count": 4,
   "id": "05ce0198",
   "metadata": {},
   "outputs": [
    {
     "data": {
      "text/plain": [
       "K-means clustering with 5 clusters of sizes 43, 46, 15, 59, 35\n",
       "\n",
       "Cluster means:\n",
       "      area perimeter compactness   length    width asymmetry   groove undefined\n",
       "1 18.53535  16.23442   0.8832419 6.196930 3.692558  3.048535 6.061233  2.000000\n",
       "2 15.33130  14.78913   0.8805413 5.675543 3.359826  2.919372 5.335435  1.217391\n",
       "3 19.50333  16.61133   0.8876733 6.294533 3.823133  5.160067 6.122333  2.000000\n",
       "4 11.86763  13.24814   0.8487627 5.234492 2.851661  5.050729 5.117271  2.966102\n",
       "5 13.10200  13.72971   0.8726829 5.326514 3.074343  2.661460 4.962086  1.400000\n",
       "\n",
       "Clustering vector:\n",
       "  1   2   3   4   5   6   9  10  11  12  13  14  15  16  17  18  19  20  21  22 \n",
       "  2   5   5   2   2   2   2   2   2   5   5   5   5   2   5   2   2   5   2   5 \n",
       " 23  24  25  26  27  28  29  30  31  32  33  34  35  38  39  40  41  42  43  44 \n",
       "  2   5   2   2   5   5   5   5   5   2   2   5   2   2   2   2   4   5   5   5 \n",
       " 45  46  47  48  49  50  51  52  53  54  55  56  57  58  59  60  61  64  65  66 \n",
       "  2   2   5   2   2   2   2   2   2   2   2   2   2   2   2   2   5   5   5   5 \n",
       " 67  68  69  70  73  74  75  76  77  78  79  80  81  82  83  84  85  86  87  88 \n",
       "  5   5   2   5   5   1   1   1   1   1   1   1   3   3   1   2   3   3   1   1 \n",
       " 89  90  91  92  93  94  95  96  97  98  99 100 101 102 103 104 105 106 107 108 \n",
       "  1   1   1   3   3   1   1   1   3   3   1   1   1   1   1   2   1   3   1   1 \n",
       "109 112 113 114 115 116 117 118 119 120 121 122 123 124 125 126 127 128 129 130 \n",
       "  1   1   1   1   1   1   1   3   3   1   3   1   1   1   3   1   2   1   2   1 \n",
       "131 132 133 134 135 136 137 138 139 142 143 144 145 146 147 148 149 150 151 152 \n",
       "  3   1   1   3   1   1   2   2   2   1   2   2   2   4   4   4   4   4   4   5 \n",
       "153 154 155 156 157 158 159 160 161 162 163 164 165 166 167 168 169 170 171 172 \n",
       "  4   5   4   4   4   4   4   4   4   4   4   4   4   5   4   4   4   4   5   4 \n",
       "173 174 179 182 183 184 185 186 187 188 189 190 191 192 193 194 195 196 197 198 \n",
       "  4   4   4   4   4   4   4   4   4   5   4   4   4   4   4   4   4   4   4   4 \n",
       "199 200 201 202 203 204 205 206 207 208 209 212 215 216 217 218 219 220 \n",
       "  4   4   4   4   4   4   4   4   5   5   4   4   4   4   4   4   4   4 \n",
       "\n",
       "Within cluster sum of squares by cluster:\n",
       "[1]  77.59908 119.20384  29.53156 115.10004  81.55672\n",
       " (between_SS / total_SS =  84.3 %)\n",
       "\n",
       "Available components:\n",
       "\n",
       "[1] \"cluster\"      \"centers\"      \"totss\"        \"withinss\"     \"tot.withinss\"\n",
       "[6] \"betweenss\"    \"size\"         \"iter\"         \"ifault\"      "
      ]
     },
     "metadata": {},
     "output_type": "display_data"
    }
   ],
   "source": [
    "fit <- kmeans(wheat, 5)\n",
    "fit"
   ]
  }
 ],
 "metadata": {
  "kernelspec": {
   "display_name": "R",
   "language": "R",
   "name": "ir"
  },
  "language_info": {
   "codemirror_mode": "r",
   "file_extension": ".r",
   "mimetype": "text/x-r-source",
   "name": "R",
   "pygments_lexer": "r",
   "version": "3.6.1"
  }
 },
 "nbformat": 4,
 "nbformat_minor": 5
}
