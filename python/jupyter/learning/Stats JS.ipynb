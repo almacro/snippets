{
 "cells": [
  {
   "cell_type": "code",
   "execution_count": 1,
   "id": "384b8d3c",
   "metadata": {},
   "outputs": [],
   "source": [
    "const stats = require(\"stats-analysis\");"
   ]
  },
  {
   "cell_type": "code",
   "execution_count": 3,
   "id": "374fe937",
   "metadata": {},
   "outputs": [],
   "source": [
    "var arr = [98, 98.6, 98.4, 98.8, 200, 120, 98.5];"
   ]
  },
  {
   "cell_type": "code",
   "execution_count": 4,
   "id": "36d1d764",
   "metadata": {},
   "outputs": [],
   "source": [
    "var my_stddev = stats.stdev(arr).toFixed(2);\n",
    "var my_mean = stats.mean(arr).toFixed(2);\n",
    "var my_median = stats.median(arr)\n",
    "var my_mad = stats.MAD(arr);\n",
    "var my_outliers = stats.indexOfOutliers(arr);\n",
    "var my_without_outliers = stats.filterOutliers(arr);"
   ]
  },
  {
   "cell_type": "code",
   "execution_count": 5,
   "id": "2cffc718",
   "metadata": {},
   "outputs": [
    {
     "name": "stdout",
     "output_type": "stream",
     "text": [
      "Raw data is  [ 98, 98.6, 98.4, 98.8, 200, 120, 98.5 ]\n",
      "Standard Deviation is  35.07\n",
      "Mean is  116.04\n",
      "Median is  98.6\n",
      "Median Abs Deviation is  0.20000000000000284\n",
      "The outliers of the dataset are  [ 4, 5, 6 ]\n",
      "The dataset without outliers is  [ 98, 98.6, 98.4, 98.8 ]\n"
     ]
    }
   ],
   "source": [
    "console.log(\"Raw data is \", arr);\n",
    "console.log(\"Standard Deviation is \", my_stddev);\n",
    "console.log(\"Mean is \", my_mean);\n",
    "console.log(\"Median is \", my_median);\n",
    "console.log(\"Median Abs Deviation is \", my_mad);\n",
    "console.log(\"The outliers of the dataset are \", my_outliers);\n",
    "console.log(\"The dataset without outliers is \", my_without_outliers);"
   ]
  }
 ],
 "metadata": {
  "kernelspec": {
   "display_name": "JavaScript (Node.js)",
   "language": "javascript",
   "name": "javascript"
  },
  "language_info": {
   "file_extension": ".js",
   "mimetype": "application/javascript",
   "name": "javascript",
   "version": "6.13.1"
  }
 },
 "nbformat": 4,
 "nbformat_minor": 5
}
