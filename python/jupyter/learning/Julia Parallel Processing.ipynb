{
 "cells": [
  {
   "cell_type": "code",
   "execution_count": 2,
   "id": "769ff249",
   "metadata": {},
   "outputs": [
    {
     "name": "stderr",
     "output_type": "stream",
     "text": [
      "OpenBLAS WARNING - could not determine the L2 cache size on this system, assuming 256k\n"
     ]
    },
    {
     "data": {
      "text/plain": [
       "3×4 Matrix{Float64}:\n",
       " 1.89564  1.84881  1.14629  1.99282\n",
       " 1.85543  1.57591  1.63361  1.68044\n",
       " 1.71042  1.94991  1.93619  1.46034"
      ]
     },
     "execution_count": 2,
     "metadata": {},
     "output_type": "execute_result"
    }
   ],
   "source": [
    "using Distributed, Random\n",
    "addprocs(1)\n",
    "Random.seed!(111)\n",
    "r = remotecall(rand, 2, 3, 4)\n",
    "s = @spawnat 2 1 .+ fetch(r)\n",
    "fetch(s)"
   ]
  }
 ],
 "metadata": {
  "kernelspec": {
   "display_name": "Julia 1.7.2",
   "language": "julia",
   "name": "julia-1.7"
  },
  "language_info": {
   "file_extension": ".jl",
   "mimetype": "application/julia",
   "name": "julia",
   "version": "1.7.2"
  }
 },
 "nbformat": 4,
 "nbformat_minor": 5
}
