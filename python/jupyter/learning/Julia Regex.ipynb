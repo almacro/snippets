{
 "cells": [
  {
   "cell_type": "code",
   "execution_count": 2,
   "id": "fd36d9b7",
   "metadata": {},
   "outputs": [
    {
     "data": {
      "text/plain": [
       "true"
      ]
     },
     "execution_count": 2,
     "metadata": {},
     "output_type": "execute_result"
    }
   ],
   "source": [
    "occursin(r\"^\\([0-9]{3}\\)[0-9]{3}-[0-9]{4}$\", \"(781)244-1212\")"
   ]
  },
  {
   "cell_type": "code",
   "execution_count": 3,
   "id": "b2acf49c",
   "metadata": {},
   "outputs": [
    {
     "data": {
      "text/plain": [
       "false"
      ]
     },
     "execution_count": 3,
     "metadata": {},
     "output_type": "execute_result"
    }
   ],
   "source": [
    "occursin(r\"^\\([0-9]{3}\\)[0-9]{3}-[0-9]{4}$\", \"-781-244-1212\")"
   ]
  }
 ],
 "metadata": {
  "kernelspec": {
   "display_name": "Julia 1.7.2",
   "language": "julia",
   "name": "julia-1.7"
  },
  "language_info": {
   "file_extension": ".jl",
   "mimetype": "application/julia",
   "name": "julia",
   "version": "1.7.2"
  }
 },
 "nbformat": 4,
 "nbformat_minor": 5
}
