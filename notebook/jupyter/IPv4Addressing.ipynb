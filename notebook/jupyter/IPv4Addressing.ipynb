{
 "cells": [
  {
   "cell_type": "markdown",
   "metadata": {},
   "source": [
    "<ins>IPv4 Overview</ins>\n",
    "\n",
    "An IPv4 address contains 32 bits. It is usually represented in\n",
    "**dotted decimal quad notation** so it is easier to read and\n",
    "communicate. Computers, of course, read this information in binary\n",
    "form. And in order to calculate subnet masks, network addresses, and\n",
    "broadcast addresses, the binary value must be known.\n",
    "\n",
    "Converting a dotted decimal IP address to binary is simple. Given that there are 4 numbers,\n",
    "each decimal number is represented in binary as an octet. The high order bits in binary are\n",
    "always the leftmost ones."
   ]
  },
  {
   "cell_type": "markdown",
   "metadata": {},
   "source": [
    "###### Counting in Binary"
   ]
  },
  {
   "cell_type": "code",
   "execution_count": 1,
   "metadata": {},
   "outputs": [
    {
     "name": "stdout",
     "output_type": "stream",
     "text": [
      "Binary      1    1    1    1    1    1    1    1    \n",
      "Powers of 2 2^7  2^6  2^5  2^4  2^3  2^2  2^1  2^0  \n",
      "Decimal     128  64   32   16   8    4    2    1    \n",
      "\n"
     ]
    }
   ],
   "source": [
    "headers = ('Binary','Powers of 2','Decimal')\n",
    "xs = [(1,f\"2^{x}\",2**x) for x in range(8)]\n",
    "print(\"\".join([f\"{headers[i]: <{12}}\"+\"\".join([f\"{x[i]: <{5}}\" for x in xs[::-1]])+\"\\n\" for i in range(3)]))"
   ]
  },
  {
   "cell_type": "markdown",
   "metadata": {},
   "source": [
    "The largest single value an IP address may have in decimal is 255\n",
    "since this is the sum when all of the bits are added together, i.e.\n"
   ]
  },
  {
   "cell_type": "code",
   "execution_count": 4,
   "metadata": {},
   "outputs": [
    {
     "name": "stdout",
     "output_type": "stream",
     "text": [
      "128 + 64 + 32 + 16 + 8 + 4 + 2 + 1 = 255\n"
     ]
    }
   ],
   "source": [
    "print(\" = \".join([\" + \".join([f\"{2**x}\" for x in range(8)][::-1]), '%s' % sum([2**x for x in range(8)])]))"
   ]
  },
  {
   "cell_type": "markdown",
   "metadata": {},
   "source": [
    "When all of the bits are turned off, the number is 0. The range of an\n",
    "IP address is therefore 0 - 255, 256 values.\n",
    "\n",
    "The following is how the IP address 68.65.16.250 would be converted\n",
    "and represented in binary form."
   ]
  },
  {
   "cell_type": "code",
   "execution_count": 5,
   "metadata": {},
   "outputs": [
    {
     "name": "stdout",
     "output_type": "stream",
     "text": [
      "              Decimal    Broken Down                 Binary Addition                    Binary    \n",
      "First Octet   68         64 + 4                      2^6 + 2^2                          01000100  \n",
      "Second Octet  65         64 + 1                      2^6 + 2^0                          01000001  \n",
      "Third Octet   16         16                          2^4                                00010000  \n",
      "Fourth Octet  250        128 + 64 + 32 + 16 + 8 + 2  2^7 + 2^6 + 2^5 + 2^4 + 2^3 + 2^1  11111010  \n",
      "\n"
     ]
    }
   ],
   "source": [
    "def powers(n):\n",
    "    ps = []\n",
    "    for i in range(7,-1,-1):\n",
    "        d = 2**i\n",
    "        if n >= d:\n",
    "            ps.append(i)\n",
    "            n = n - d\n",
    "    return ps\n",
    "\n",
    "def factors(n):\n",
    "    return [2**x for x in powers(n)]\n",
    "\n",
    "ip_addr = '68.65.16.250'\n",
    "col_label = ('', 'Decimal','Broken Down', 'Binary Addition', 'Binary')\n",
    "row_label = ('First','Second','Third','Fourth')\n",
    "\n",
    "rows = [(f\"{row_label[i]} Octet\", f\"{n: <{9}}\",\" + \".join([str(f) for f in factors(n)]),\" + \".join([f\"2^{p}\" for p in powers(n)]),f\"{n:08b}\") for i,n in [(i,int(o)) for i,o in enumerate(ip_addr.split('.'))]]\n",
    "ws = [max([len(r[c]) for r in rows]) for c in range(5)]\n",
    "\n",
    "print(\"\".join([\"\".join([f\"{col: <{2+max(len(col),w)}}\" for w,col in zip(ws,col_label)])+\"\\n\", \"\".join([\"\".join([f\"{r: <{2+w}}\" for w,r in zip(ws,row)])+\"\\n\" for row in rows])]))\n"
   ]
  },
  {
   "cell_type": "markdown",
   "metadata": {},
   "source": [
    "The end result looks like:\n"
   ]
  },
  {
   "cell_type": "code",
   "execution_count": 6,
   "metadata": {},
   "outputs": [
    {
     "name": "stdout",
     "output_type": "stream",
     "text": [
      "01000100010000010001000011111010\n"
     ]
    }
   ],
   "source": [
    "print(\"\".join([f\"{n:08b}\" for n in [int(o) for o in ip_addr.split('.')]]))"
   ]
  },
  {
   "cell_type": "markdown",
   "metadata": {},
   "source": [
    "### CIDR: Classless Inter-Domain Routing\n",
    "\n",
    "CIDR networks are identified with a trailing \"/\" (\"slash\") and a\n",
    "number that indicates how many bits are used to identify the network\n",
    "portion of the address. A /24 would indicate that 24 bits are used to\n",
    "identify the network and the remaining 8 bits are used to identify the\n",
    "host."
   ]
  },
  {
   "cell_type": "markdown",
   "metadata": {},
   "source": [
    "#### CIDR Available Hosts\n",
    "\n",
    "The formula to calculate the number of assignable addresses to CIDR\n",
    "networks is similar to classful networking. Subtract the number of\n",
    "network bits from 32. Raise 2 to that power and subtract 2 for the\n",
    "network and broadcast addresses. For example, a /24 network has 2^(32 - 24) - 2\n",
    "addresses available for the host assignment.\n"
   ]
  },
  {
   "cell_type": "code",
   "execution_count": 7,
   "metadata": {},
   "outputs": [
    {
     "name": "stdout",
     "output_type": "stream",
     "text": [
      "CIDR Notation    Host Formula       Available Hosts\n",
      "/8               2^(32 - 8 ) - 2    16,777,214     \n",
      "/9               2^(32 - 9 ) - 2    8,388,606      \n",
      "/10              2^(32 - 10) - 2    4,194,302      \n",
      "/11              2^(32 - 11) - 2    2,097,150      \n",
      "/12              2^(32 - 12) - 2    1,048,574      \n",
      "/13              2^(32 - 13) - 2    524,286        \n",
      "/14              2^(32 - 14) - 2    262,142        \n",
      "/15              2^(32 - 15) - 2    131,070        \n",
      "/16              2^(32 - 16) - 2    65,534         \n",
      "/17              2^(32 - 17) - 2    32,766         \n",
      "/18              2^(32 - 18) - 2    16,382         \n",
      "/19              2^(32 - 19) - 2    8,190          \n",
      "/20              2^(32 - 20) - 2    4,094          \n",
      "/21              2^(32 - 21) - 2    2,046          \n",
      "/22              2^(32 - 22) - 2    1,022          \n",
      "/23              2^(32 - 23) - 2    510            \n",
      "/24              2^(32 - 24) - 2    254            \n",
      "/25              2^(32 - 25) - 2    126            \n",
      "/26              2^(32 - 26) - 2    62             \n",
      "/27              2^(32 - 27) - 2    30             \n",
      "/28              2^(32 - 28) - 2    14             \n",
      "/29              2^(32 - 29) - 2    6              \n",
      "/30              2^(32 - 30) - 2    2              \n",
      "\n"
     ]
    }
   ],
   "source": [
    "col_label = ('CIDR Notation', 'Host Formula   ', 'Available Hosts')\n",
    "ws = [len(c) for c in col_label]\n",
    "rows =  [(f\"/{x}\", f\"2^(32 - {x: <{2}}) - 2\", f\"{(2 ** (32 - x) - 2):,}\") for x in range(8,31)]\n",
    "print(\"\".join([\"    \".join([f\"{col: <{w}}\" for w,col in zip(ws,col_label)])+'\\n', \"\".join([\"    \".join([f\"{r: <{w}}\" for w,r in zip(ws,row)])+'\\n' for row in rows])]))\n"
   ]
  },
  {
   "cell_type": "markdown",
   "metadata": {},
   "source": [
    "As the table indicates, two /29 networks equals a /28 network. Two /28\n",
    "networks equals a /27 network. Two /27 networks equals a /26\n",
    "network. And so on, and so on. The notion of combining two smaller\n",
    "networks into a larger one is another benefit of classless networks\n",
    "named supernetting. In order to create a supernet the smaller networks\n",
    "must be contiguous. For example, 192.0.2.240/29 and 192.0.2.248/29 can\n",
    "form a supernet 192.0.2.240/28, but 192.0.2.240/29 and 192.0.2.8/29\n",
    "could not.\n"
   ]
  },
  {
   "cell_type": "markdown",
   "metadata": {},
   "source": [
    "<ins>The following illustrates how many /21 networks can fit into a /17 network</ins>\n",
    "\n",
    "> * Subtract the network bits from 32.\n",
    ">   * /17 = 32 - 17 and /21 = 32 - 21\n",
    "> * Raise 2 to that power.\n",
    ">   * 2^(32 - 17) and 2^(32 - 21)\n",
    "> * Divide the larger networ by the smaller one.\n",
    ">   * 2^(32 - 17) / 2^(32 - 21) = 2^15 / 2^11 = 2^(15 - 11) = 2^4 = 16\n"
   ]
  },
  {
   "cell_type": "markdown",
   "metadata": {},
   "source": [
    "#### CIDR Networks\n",
    "\n",
    "Since CIDR address spaces can overlap byte boundaries, the method to\n",
    "tell which address is a part of which network is a little trickier\n",
    "than with classful networking. Everything that needs to be known is\n",
    "indicated by the \"/\" number, however. Given a network address\n",
    "172.16.0.0/21, it is known that the first 21 bits of that address\n",
    "represent the network portion. That leaves 11 bits for host\n",
    "information, about 2,000 host addresses. To more easily see what that\n",
    "range looks like, convert 172.16.0.0 into binary. In binary, the number looks like:"
   ]
  },
  {
   "cell_type": "code",
   "execution_count": 9,
   "metadata": {},
   "outputs": [
    {
     "name": "stdout",
     "output_type": "stream",
     "text": [
      "10101100.00010000.00000 000.00000000\n"
     ]
    }
   ],
   "source": [
    "ip_addr = '172.16.0.0'\n",
    "bit_string = \"\".join([f\"{n:08b}\" for n in [int(o) for o in ip_addr.split('.')]])\n",
    "net_addr = bit_string[0:21]\n",
    "host_addr = bit_string[21:]\n",
    "print(f\"{net_addr[0:8]}.{net_addr[8:16]}.{net_addr[16:]} {host_addr[0:len(host_addr)-8]}.{host_addr[-8:]}\")"
   ]
  },
  {
   "cell_type": "markdown",
   "metadata": {},
   "source": [
    "The numbers before the break show the /21 network mask. No\n",
    "modification can be done to the network portion of the address. The\n",
    "remaining 11 bits are available for host assignment on the network.\n",
    "After the break, the remaining 3 bits in the third octet can be added up\n",
    "for a maximum value of decimal 7 (2^2 + 2^1 + 2^0). All of the bits in the\n",
    "last octet are available and when converted to decimal equal 255. With all\n",
    "of the bits turned on (all 1's), the decimal number turns out to be 172.16.7.255.\n",
    "This is the end range of the 172.16/21 network, 172.16.0.0 - 172.16.7.255.\n"
   ]
  },
  {
   "cell_type": "markdown",
   "metadata": {},
   "source": [
    "#### CIDR Subnet Mask\n",
    "\n",
    "The process to determine the subnet mask for a CIDR address is\n",
    "straightforward. The number of bits in the network portion of the\n",
    "address are converted to 1's and right padded with 0's until there are\n",
    "32 digits.  The sequence of digits is then divided into 4 octets\n",
    "containing 8 digits each. From then, it is a matter of converting the\n",
    "4 octets from binary to decimal.\n"
   ]
  },
  {
   "cell_type": "code",
   "execution_count": 10,
   "metadata": {},
   "outputs": [
    {
     "name": "stdout",
     "output_type": "stream",
     "text": [
      "CIDR Notation  Convert to 1's and Right Pad         Subnet Mask\n",
      "/8             11111111.00000000.00000000.00000000  255.0.0.0  \n",
      "/9             11111111.10000000.00000000.00000000  255.128.0.0\n",
      "/10            11111111.11000000.00000000.00000000  255.192.0.0\n",
      "/11            11111111.11100000.00000000.00000000  255.224.0.0\n",
      "/12            11111111.11110000.00000000.00000000  255.240.0.0\n",
      "/13            11111111.11111000.00000000.00000000  255.248.0.0\n",
      "/14            11111111.11111100.00000000.00000000  255.252.0.0\n",
      "/15            11111111.11111110.00000000.00000000  255.254.0.0\n",
      "/16            11111111.11111111.00000000.00000000  255.255.0.0\n",
      "/17            11111111.11111111.10000000.00000000  255.255.128.0\n",
      "/18            11111111.11111111.11000000.00000000  255.255.192.0\n",
      "/19            11111111.11111111.11100000.00000000  255.255.224.0\n",
      "/20            11111111.11111111.11110000.00000000  255.255.240.0\n",
      "/21            11111111.11111111.11111000.00000000  255.255.248.0\n",
      "/22            11111111.11111111.11111100.00000000  255.255.252.0\n",
      "/23            11111111.11111111.11111110.00000000  255.255.254.0\n",
      "/24            11111111.11111111.11111111.00000000  255.255.255.0\n",
      "/25            11111111.11111111.11111111.10000000  255.255.255.128\n",
      "/26            11111111.11111111.11111111.11000000  255.255.255.192\n",
      "/27            11111111.11111111.11111111.11100000  255.255.255.224\n",
      "/28            11111111.11111111.11111111.11110000  255.255.255.240\n",
      "/29            11111111.11111111.11111111.11111000  255.255.255.248\n",
      "/30            11111111.11111111.11111111.11111100  255.255.255.252\n",
      "\n"
     ]
    }
   ],
   "source": [
    "def subnet_bitmask(num_bits):\n",
    "    m = num_bits * '1' + (32 - num_bits) * '0'\n",
    "    return \".\".join([m[0:8], m[8:16], m[16:24], m[24:32]])\n",
    "\n",
    "def bin_to_dec(bits):\n",
    "    d = 0\n",
    "    for bi in range(7,-1,-1):\n",
    "        if bits[bi] == '1':\n",
    "            d = d + 2**(7 - bi)\n",
    "    return d\n",
    "\n",
    "def subnet_mask(num_bits):\n",
    "    m = subnet_bitmask(num_bits)\n",
    "    return \".\".join([str(bin_to_dec(octets)) for octets in m.split(\".\")])\n",
    "\n",
    "\n",
    "col_label = ('CIDR Notation', \"Convert to 1's and Right Pad       \", 'Subnet Mask')\n",
    "ws = [len(c) for c in col_label]\n",
    "\n",
    "rows = [(f\"/{x}\", f\"{subnet_bitmask(x)}\", f\"{subnet_mask(x)}\") for x in range(8,31)]\n",
    "print(\"\\n\".join([\"\".join([\"  \".join([f\"{col: <{w}}\" for w,col in zip(ws,col_label)])]), \"\".join([\"  \".join([f\"{r: <{w}}\" for w,r in zip(ws,row)])+'\\n' for row in rows])]))\n"
   ]
  },
  {
   "cell_type": "code",
   "execution_count": null,
   "metadata": {},
   "outputs": [],
   "source": []
  }
 ],
 "metadata": {
  "kernelspec": {
   "display_name": "Python 3",
   "language": "python",
   "name": "python3"
  },
  "language_info": {
   "codemirror_mode": {
    "name": "ipython",
    "version": 3
   },
   "file_extension": ".py",
   "mimetype": "text/x-python",
   "name": "python",
   "nbconvert_exporter": "python",
   "pygments_lexer": "ipython3",
   "version": "3.7.6"
  }
 },
 "nbformat": 4,
 "nbformat_minor": 4
}
